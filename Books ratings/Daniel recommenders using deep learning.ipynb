{
 "cells": [
  {
   "cell_type": "markdown",
   "id": "a5756157",
   "metadata": {},
   "source": [
    "## Import the important libraries"
   ]
  },
  {
   "cell_type": "code",
   "execution_count": 1,
   "id": "d85c76e8",
   "metadata": {},
   "outputs": [],
   "source": [
    "import tensorflow_recommenders as tfrs\n",
    "import tensorflow as tf\n",
    "import numpy as np\n",
    "import pandas as pd\n",
    "import matplotlib.pyplot as plt"
   ]
  },
  {
   "cell_type": "markdown",
   "id": "139aed7e",
   "metadata": {},
   "source": [
    "## Read the dataset "
   ]
  },
  {
   "cell_type": "code",
   "execution_count": 65,
   "id": "ba20c296",
   "metadata": {},
   "outputs": [],
   "source": [
    "user_data = pd.read_csv('data/BX-CSV/BX-Users.csv', delimiter=';', encoding='latin-1')\n",
    "book_data = pd.read_csv('data/BX-CSV/BX-Books.csv', delimiter=';', encoding='latin-1', on_bad_lines='skip', low_memory=False)\n",
    "rating_data = pd.read_csv('data/BX-CSV/BX-Book-Ratings.csv', delimiter=';', encoding='latin-1')"
   ]
  },
  {
   "cell_type": "markdown",
   "id": "d41acf12",
   "metadata": {},
   "source": [
    "## Preparing dataset"
   ]
  },
  {
   "cell_type": "code",
   "execution_count": 3,
   "id": "838daab4",
   "metadata": {},
   "outputs": [
    {
     "data": {
      "text/html": [
       "<div>\n",
       "<style scoped>\n",
       "    .dataframe tbody tr th:only-of-type {\n",
       "        vertical-align: middle;\n",
       "    }\n",
       "\n",
       "    .dataframe tbody tr th {\n",
       "        vertical-align: top;\n",
       "    }\n",
       "\n",
       "    .dataframe thead th {\n",
       "        text-align: right;\n",
       "    }\n",
       "</style>\n",
       "<table border=\"1\" class=\"dataframe\">\n",
       "  <thead>\n",
       "    <tr style=\"text-align: right;\">\n",
       "      <th></th>\n",
       "      <th>User-ID</th>\n",
       "      <th>ISBN</th>\n",
       "      <th>Book-Rating</th>\n",
       "    </tr>\n",
       "  </thead>\n",
       "  <tbody>\n",
       "    <tr>\n",
       "      <th>0</th>\n",
       "      <td>276725</td>\n",
       "      <td>034545104X</td>\n",
       "      <td>0</td>\n",
       "    </tr>\n",
       "    <tr>\n",
       "      <th>1</th>\n",
       "      <td>276726</td>\n",
       "      <td>0155061224</td>\n",
       "      <td>5</td>\n",
       "    </tr>\n",
       "    <tr>\n",
       "      <th>2</th>\n",
       "      <td>276727</td>\n",
       "      <td>0446520802</td>\n",
       "      <td>0</td>\n",
       "    </tr>\n",
       "    <tr>\n",
       "      <th>3</th>\n",
       "      <td>276729</td>\n",
       "      <td>052165615X</td>\n",
       "      <td>3</td>\n",
       "    </tr>\n",
       "    <tr>\n",
       "      <th>4</th>\n",
       "      <td>276729</td>\n",
       "      <td>0521795028</td>\n",
       "      <td>6</td>\n",
       "    </tr>\n",
       "  </tbody>\n",
       "</table>\n",
       "</div>"
      ],
      "text/plain": [
       "   User-ID        ISBN  Book-Rating\n",
       "0   276725  034545104X            0\n",
       "1   276726  0155061224            5\n",
       "2   276727  0446520802            0\n",
       "3   276729  052165615X            3\n",
       "4   276729  0521795028            6"
      ]
     },
     "execution_count": 3,
     "metadata": {},
     "output_type": "execute_result"
    }
   ],
   "source": [
    "rating_data.head()"
   ]
  },
  {
   "cell_type": "code",
   "execution_count": 4,
   "id": "77207a33",
   "metadata": {
    "collapsed": true
   },
   "outputs": [
    {
     "data": {
      "text/html": [
       "<div>\n",
       "<style scoped>\n",
       "    .dataframe tbody tr th:only-of-type {\n",
       "        vertical-align: middle;\n",
       "    }\n",
       "\n",
       "    .dataframe tbody tr th {\n",
       "        vertical-align: top;\n",
       "    }\n",
       "\n",
       "    .dataframe thead th {\n",
       "        text-align: right;\n",
       "    }\n",
       "</style>\n",
       "<table border=\"1\" class=\"dataframe\">\n",
       "  <thead>\n",
       "    <tr style=\"text-align: right;\">\n",
       "      <th></th>\n",
       "      <th>ISBN</th>\n",
       "      <th>Book-Title</th>\n",
       "      <th>Book-Author</th>\n",
       "      <th>Year-Of-Publication</th>\n",
       "      <th>Publisher</th>\n",
       "      <th>Image-URL-S</th>\n",
       "      <th>Image-URL-M</th>\n",
       "      <th>Image-URL-L</th>\n",
       "    </tr>\n",
       "  </thead>\n",
       "  <tbody>\n",
       "    <tr>\n",
       "      <th>0</th>\n",
       "      <td>0195153448</td>\n",
       "      <td>Classical Mythology</td>\n",
       "      <td>Mark P. O. Morford</td>\n",
       "      <td>2002</td>\n",
       "      <td>Oxford University Press</td>\n",
       "      <td>http://images.amazon.com/images/P/0195153448.0...</td>\n",
       "      <td>http://images.amazon.com/images/P/0195153448.0...</td>\n",
       "      <td>http://images.amazon.com/images/P/0195153448.0...</td>\n",
       "    </tr>\n",
       "    <tr>\n",
       "      <th>1</th>\n",
       "      <td>0002005018</td>\n",
       "      <td>Clara Callan</td>\n",
       "      <td>Richard Bruce Wright</td>\n",
       "      <td>2001</td>\n",
       "      <td>HarperFlamingo Canada</td>\n",
       "      <td>http://images.amazon.com/images/P/0002005018.0...</td>\n",
       "      <td>http://images.amazon.com/images/P/0002005018.0...</td>\n",
       "      <td>http://images.amazon.com/images/P/0002005018.0...</td>\n",
       "    </tr>\n",
       "    <tr>\n",
       "      <th>2</th>\n",
       "      <td>0060973129</td>\n",
       "      <td>Decision in Normandy</td>\n",
       "      <td>Carlo D'Este</td>\n",
       "      <td>1991</td>\n",
       "      <td>HarperPerennial</td>\n",
       "      <td>http://images.amazon.com/images/P/0060973129.0...</td>\n",
       "      <td>http://images.amazon.com/images/P/0060973129.0...</td>\n",
       "      <td>http://images.amazon.com/images/P/0060973129.0...</td>\n",
       "    </tr>\n",
       "    <tr>\n",
       "      <th>3</th>\n",
       "      <td>0374157065</td>\n",
       "      <td>Flu: The Story of the Great Influenza Pandemic...</td>\n",
       "      <td>Gina Bari Kolata</td>\n",
       "      <td>1999</td>\n",
       "      <td>Farrar Straus Giroux</td>\n",
       "      <td>http://images.amazon.com/images/P/0374157065.0...</td>\n",
       "      <td>http://images.amazon.com/images/P/0374157065.0...</td>\n",
       "      <td>http://images.amazon.com/images/P/0374157065.0...</td>\n",
       "    </tr>\n",
       "    <tr>\n",
       "      <th>4</th>\n",
       "      <td>0393045218</td>\n",
       "      <td>The Mummies of Urumchi</td>\n",
       "      <td>E. J. W. Barber</td>\n",
       "      <td>1999</td>\n",
       "      <td>W. W. Norton &amp;amp; Company</td>\n",
       "      <td>http://images.amazon.com/images/P/0393045218.0...</td>\n",
       "      <td>http://images.amazon.com/images/P/0393045218.0...</td>\n",
       "      <td>http://images.amazon.com/images/P/0393045218.0...</td>\n",
       "    </tr>\n",
       "  </tbody>\n",
       "</table>\n",
       "</div>"
      ],
      "text/plain": [
       "         ISBN                                         Book-Title  \\\n",
       "0  0195153448                                Classical Mythology   \n",
       "1  0002005018                                       Clara Callan   \n",
       "2  0060973129                               Decision in Normandy   \n",
       "3  0374157065  Flu: The Story of the Great Influenza Pandemic...   \n",
       "4  0393045218                             The Mummies of Urumchi   \n",
       "\n",
       "            Book-Author Year-Of-Publication                   Publisher  \\\n",
       "0    Mark P. O. Morford                2002     Oxford University Press   \n",
       "1  Richard Bruce Wright                2001       HarperFlamingo Canada   \n",
       "2          Carlo D'Este                1991             HarperPerennial   \n",
       "3      Gina Bari Kolata                1999        Farrar Straus Giroux   \n",
       "4       E. J. W. Barber                1999  W. W. Norton &amp; Company   \n",
       "\n",
       "                                         Image-URL-S  \\\n",
       "0  http://images.amazon.com/images/P/0195153448.0...   \n",
       "1  http://images.amazon.com/images/P/0002005018.0...   \n",
       "2  http://images.amazon.com/images/P/0060973129.0...   \n",
       "3  http://images.amazon.com/images/P/0374157065.0...   \n",
       "4  http://images.amazon.com/images/P/0393045218.0...   \n",
       "\n",
       "                                         Image-URL-M  \\\n",
       "0  http://images.amazon.com/images/P/0195153448.0...   \n",
       "1  http://images.amazon.com/images/P/0002005018.0...   \n",
       "2  http://images.amazon.com/images/P/0060973129.0...   \n",
       "3  http://images.amazon.com/images/P/0374157065.0...   \n",
       "4  http://images.amazon.com/images/P/0393045218.0...   \n",
       "\n",
       "                                         Image-URL-L  \n",
       "0  http://images.amazon.com/images/P/0195153448.0...  \n",
       "1  http://images.amazon.com/images/P/0002005018.0...  \n",
       "2  http://images.amazon.com/images/P/0060973129.0...  \n",
       "3  http://images.amazon.com/images/P/0374157065.0...  \n",
       "4  http://images.amazon.com/images/P/0393045218.0...  "
      ]
     },
     "execution_count": 4,
     "metadata": {},
     "output_type": "execute_result"
    }
   ],
   "source": [
    "book_data.head()"
   ]
  },
  {
   "cell_type": "code",
   "execution_count": 5,
   "id": "9fe124ca",
   "metadata": {},
   "outputs": [
    {
     "data": {
      "text/plain": [
       "Index(['ISBN', 'Book-Title', 'Book-Author', 'Year-Of-Publication', 'Publisher',\n",
       "       'Image-URL-S', 'Image-URL-M', 'Image-URL-L'],\n",
       "      dtype='object')"
      ]
     },
     "execution_count": 5,
     "metadata": {},
     "output_type": "execute_result"
    }
   ],
   "source": [
    "book_data.columns"
   ]
  },
  {
   "cell_type": "code",
   "execution_count": 67,
   "id": "7ed468d9",
   "metadata": {},
   "outputs": [],
   "source": [
    "rated_data = rating_data.merge(book_data, on='ISBN')\n",
    "#rating = rating.drop(['ISBN','Book-Author', 'Year-Of-Publication', 'Publisher',\n",
    "#       'Image-URL-S', 'Image-URL-M', 'Image-URL-L'], axis=1)"
   ]
  },
  {
   "cell_type": "code",
   "execution_count": 7,
   "id": "f096e082",
   "metadata": {},
   "outputs": [],
   "source": [
    "##len(rating['Book-Title'].unique())"
   ]
  },
  {
   "cell_type": "markdown",
   "id": "280b71ff",
   "metadata": {},
   "source": [
    "## Preprocess the data for model building"
   ]
  },
  {
   "cell_type": "code",
   "execution_count": 68,
   "id": "48e814e6",
   "metadata": {},
   "outputs": [],
   "source": [
    "rated_data['User-ID'] = rated_data['User-ID'].astype(str)"
   ]
  },
  {
   "cell_type": "code",
   "execution_count": 9,
   "id": "883898cc",
   "metadata": {},
   "outputs": [
    {
     "data": {
      "text/plain": [
       "Index(['User-ID', 'ISBN', 'Book-Rating', 'Book-Title', 'Book-Author',\n",
       "       'Year-Of-Publication', 'Publisher', 'Image-URL-S', 'Image-URL-M',\n",
       "       'Image-URL-L'],\n",
       "      dtype='object')"
      ]
     },
     "execution_count": 9,
     "metadata": {},
     "output_type": "execute_result"
    }
   ],
   "source": [
    "rated_data.columns"
   ]
  },
  {
   "cell_type": "code",
   "execution_count": 10,
   "id": "302653b9",
   "metadata": {},
   "outputs": [],
   "source": [
    "# creating tensorflow source dataset from input dataset to perform some transformation\n",
    "rated_data1 = tf.data.Dataset.from_tensor_slices(dict(rated_data[['Book-Title', 'User-ID']]))"
   ]
  },
  {
   "cell_type": "code",
   "execution_count": 11,
   "id": "9ef45d37",
   "metadata": {},
   "outputs": [],
   "source": [
    "# creating tensorflow source dataset from input dataset to perform some transformation\n",
    "book_data = tf.data.Dataset.from_tensor_slices(dict(book_data[['Book-Title']]))"
   ]
  },
  {
   "cell_type": "code",
   "execution_count": 12,
   "id": "4d3f1091",
   "metadata": {},
   "outputs": [],
   "source": [
    "# extracting specific columns from dataset\n",
    "ratings = rated_data1.map(lambda x: {\n",
    "    \"Book-Title\" : x['Book-Title'],\n",
    "    \"User-ID\" : x['User-ID']\n",
    "})\n",
    "\n",
    "books = book_data.map(lambda x : x['Book-Title'])"
   ]
  },
  {
   "cell_type": "code",
   "execution_count": 13,
   "id": "dfe2d8c1",
   "metadata": {},
   "outputs": [],
   "source": [
    "# selecing batch of data\n",
    "user_ids = ratings.batch(1_000_000).map(lambda x : x['User-ID'])\n",
    "book_titles = books.batch(1000)\n",
    "\n",
    "# extracting unique users and book titles\n",
    "unique_book_titles = np.unique(np.concatenate(list(book_titles)))\n",
    "unique_users = np.unique(np.concatenate(list(user_ids)))"
   ]
  },
  {
   "cell_type": "code",
   "execution_count": 14,
   "id": "eb827eef",
   "metadata": {},
   "outputs": [],
   "source": [
    "# separating training and test set\n",
    "tf.random.set_seed = 42\n",
    "shuffled = ratings.shuffle(100_000, seed=42, reshuffle_each_iteration=False,)\n",
    "train = shuffled.take(80_000)\n",
    "test = shuffled.skip(80_000).take(20_000)"
   ]
  },
  {
   "cell_type": "markdown",
   "id": "de05ca42",
   "metadata": {},
   "source": [
    "## Model building : Retrieval model"
   ]
  },
  {
   "cell_type": "markdown",
   "id": "ddaca375",
   "metadata": {},
   "source": [
    "#### building embedding layers"
   ]
  },
  {
   "cell_type": "code",
   "execution_count": 172,
   "id": "95ec8684",
   "metadata": {},
   "outputs": [],
   "source": [
    "embedding_dim = 32"
   ]
  },
  {
   "cell_type": "code",
   "execution_count": 16,
   "id": "03eaf6f8",
   "metadata": {},
   "outputs": [],
   "source": [
    "user_model = tf.keras.Sequential([\n",
    "    tf.keras.layers.StringLookup(mask_token=None, vocabulary=unique_users),\n",
    "    tf.keras.layers.Embedding(len(unique_users)+1, embedding_dim)\n",
    "])"
   ]
  },
  {
   "cell_type": "code",
   "execution_count": 17,
   "id": "d24ee6e6",
   "metadata": {},
   "outputs": [],
   "source": [
    "book_model = tf.keras.Sequential([\n",
    "    tf.keras.layers.StringLookup(mask_token=None, vocabulary=unique_book_titles),\n",
    "    tf.keras.layers.Embedding(len(unique_book_titles)+1, embedding_dim)\n",
    "])"
   ]
  },
  {
   "cell_type": "code",
   "execution_count": 25,
   "id": "51e2636d",
   "metadata": {},
   "outputs": [],
   "source": [
    "metrics = tfrs.metrics.FactorizedTopK(\n",
    "  candidates=books.batch(128).map(book_model)\n",
    ")"
   ]
  },
  {
   "cell_type": "code",
   "execution_count": 26,
   "id": "911c4d7a",
   "metadata": {},
   "outputs": [],
   "source": [
    "task = tfrs.tasks.Retrieval(\n",
    "  metrics=metrics\n",
    ")"
   ]
  },
  {
   "cell_type": "markdown",
   "id": "2ce3cd34",
   "metadata": {},
   "source": [
    "#### model development"
   ]
  },
  {
   "cell_type": "code",
   "execution_count": 22,
   "id": "fb3f68fc",
   "metadata": {},
   "outputs": [],
   "source": [
    "class BookModel(tfrs.Model):\n",
    "    def __init__(self, book_model, user_model):\n",
    "        super().__init__(self)\n",
    "        self.book_model = book_model\n",
    "        self.user_model = user_model\n",
    "        self.task = task\n",
    "\n",
    "    def compute_loss(self, features, training=False):\n",
    "        user_embedding = self.user_model(features['User-ID'])\n",
    "        book_embedding = self.book_model(features['Book-Title'])\n",
    "        \n",
    "        return self.task(user_embedding, book_embedding)"
   ]
  },
  {
   "cell_type": "code",
   "execution_count": 27,
   "id": "699aba12",
   "metadata": {},
   "outputs": [],
   "source": [
    "model = BookModel(book_model, user_model)\n",
    "model.compile(optimizer=tf.keras.optimizers.Adagrad(learning_rate=0.1) )"
   ]
  },
  {
   "cell_type": "code",
   "execution_count": 28,
   "id": "a31e3c68",
   "metadata": {},
   "outputs": [],
   "source": [
    "cached_train = train.shuffle(100_000).batch(8192).cache()\n",
    "cached_test = test.batch(4096).cache()"
   ]
  },
  {
   "cell_type": "code",
   "execution_count": 29,
   "id": "dd71eb51",
   "metadata": {
    "collapsed": true
   },
   "outputs": [
    {
     "name": "stdout",
     "output_type": "stream",
     "text": [
      "Epoch 1/3\n",
      "10/10 [==============================] - 808s 81s/step - factorized_top_k/top_1_categorical_accuracy: 7.3750e-04 - factorized_top_k/top_5_categorical_accuracy: 0.0025 - factorized_top_k/top_10_categorical_accuracy: 0.0044 - factorized_top_k/top_50_categorical_accuracy: 0.0158 - factorized_top_k/top_100_categorical_accuracy: 0.0278 - loss: 70309.9205 - regularization_loss: 0.0000e+00 - total_loss: 70309.9205\n",
      "Epoch 2/3\n",
      "10/10 [==============================] - 804s 80s/step - factorized_top_k/top_1_categorical_accuracy: 0.0162 - factorized_top_k/top_5_categorical_accuracy: 0.0622 - factorized_top_k/top_10_categorical_accuracy: 0.0951 - factorized_top_k/top_50_categorical_accuracy: 0.1829 - factorized_top_k/top_100_categorical_accuracy: 0.2361 - loss: 68983.6357 - regularization_loss: 0.0000e+00 - total_loss: 68983.6357\n",
      "Epoch 3/3\n",
      "10/10 [==============================] - 808s 81s/step - factorized_top_k/top_1_categorical_accuracy: 0.0302 - factorized_top_k/top_5_categorical_accuracy: 0.1589 - factorized_top_k/top_10_categorical_accuracy: 0.2244 - factorized_top_k/top_50_categorical_accuracy: 0.3509 - factorized_top_k/top_100_categorical_accuracy: 0.4168 - loss: 65574.7429 - regularization_loss: 0.0000e+00 - total_loss: 65574.7429\n"
     ]
    },
    {
     "data": {
      "text/plain": [
       "<keras.callbacks.History at 0x1a5b6a227d0>"
      ]
     },
     "execution_count": 29,
     "metadata": {},
     "output_type": "execute_result"
    }
   ],
   "source": [
    "model.fit(cached_train, epochs=3)"
   ]
  },
  {
   "cell_type": "code",
   "execution_count": 30,
   "id": "40f1d51d",
   "metadata": {
    "collapsed": true
   },
   "outputs": [
    {
     "name": "stdout",
     "output_type": "stream",
     "text": [
      "5/5 [==============================] - 197s 40s/step - factorized_top_k/top_1_categorical_accuracy: 9.5000e-04 - factorized_top_k/top_5_categorical_accuracy: 0.0058 - factorized_top_k/top_10_categorical_accuracy: 0.0108 - factorized_top_k/top_50_categorical_accuracy: 0.0375 - factorized_top_k/top_100_categorical_accuracy: 0.0616 - loss: 32448.7253 - regularization_loss: 0.0000e+00 - total_loss: 32448.7253\n"
     ]
    },
    {
     "data": {
      "text/plain": [
       "{'factorized_top_k/top_1_categorical_accuracy': 0.0009500000160187483,\n",
       " 'factorized_top_k/top_5_categorical_accuracy': 0.005849999841302633,\n",
       " 'factorized_top_k/top_10_categorical_accuracy': 0.01075000036507845,\n",
       " 'factorized_top_k/top_50_categorical_accuracy': 0.03750000149011612,\n",
       " 'factorized_top_k/top_100_categorical_accuracy': 0.06159999966621399,\n",
       " 'loss': 29540.271484375,\n",
       " 'regularization_loss': 0,\n",
       " 'total_loss': 29540.271484375}"
      ]
     },
     "execution_count": 30,
     "metadata": {},
     "output_type": "execute_result"
    }
   ],
   "source": [
    "model.evaluate(cached_test, return_dict=True)"
   ]
  },
  {
   "cell_type": "code",
   "execution_count": 62,
   "id": "ee21c8d1",
   "metadata": {},
   "outputs": [],
   "source": [
    "def predict(user):\n",
    "    index = tfrs.layers.factorized_top_k.BruteForce(model.user_model)\n",
    "    index.index_from_dataset(tf.data.Dataset.zip((books.batch(100), books.batch(100).map(model.book_model))))\n",
    "    \n",
    "    _, titles = index(tf.constant([str(user)]))\n",
    "    \n",
    "    print(titles)"
   ]
  },
  {
   "cell_type": "code",
   "execution_count": 61,
   "id": "446c7aba",
   "metadata": {
    "collapsed": true
   },
   "outputs": [
    {
     "name": "stdout",
     "output_type": "stream",
     "text": [
      "tf.Tensor(\n",
      "[[b\"Forever Isn'T Long Enough (Family Ties) (Harlequin Romance, No 3377)\"\n",
      "  b'The Berenstain Bears: No Girls Allowed (First Time Books)'\n",
      "  b\"Groom'S Revenge (Harlequin Presents, 2035)\"\n",
      "  b'My Best Picture Word Book'\n",
      "  b'Puppies need someone to love (A Golden look-look book)'\n",
      "  b'Wild Side (Harlequin Romance, No 2979)' b\"Mooly's Slow Teeth\"\n",
      "  b'Dark Enigma (Harlequin Romance)'\n",
      "  b\"Sax Rohmer's the Trail of Fu Manchu\"\n",
      "  b\"Buchanan'S Bride (Buckles &amp; Broncos) (Silhouette Special Edition, No 1012)\"]], shape=(1, 10), dtype=string)\n"
     ]
    }
   ],
   "source": [
    "predict(276726)"
   ]
  },
  {
   "cell_type": "code",
   "execution_count": null,
   "id": "9b85e8a8",
   "metadata": {},
   "outputs": [],
   "source": []
  },
  {
   "cell_type": "code",
   "execution_count": null,
   "id": "ca5be00e",
   "metadata": {},
   "outputs": [],
   "source": []
  },
  {
   "cell_type": "code",
   "execution_count": null,
   "id": "13c2a65f",
   "metadata": {},
   "outputs": [],
   "source": []
  },
  {
   "cell_type": "code",
   "execution_count": null,
   "id": "3dd43898",
   "metadata": {},
   "outputs": [],
   "source": []
  },
  {
   "cell_type": "markdown",
   "id": "b2ac9468",
   "metadata": {},
   "source": [
    "## Model building : Ranking model"
   ]
  },
  {
   "cell_type": "code",
   "execution_count": 69,
   "id": "aa50e4dd",
   "metadata": {},
   "outputs": [],
   "source": [
    "rank_rated_data = tf.data.Dataset.from_tensor_slices(dict(rated_data[['Book-Title', 'User-ID', 'Book-Rating']]))"
   ]
  },
  {
   "cell_type": "code",
   "execution_count": 123,
   "id": "795c7868",
   "metadata": {},
   "outputs": [],
   "source": [
    "# ratings will be added for prediction\n",
    "rating_rank = rank_rated_data.map(lambda x: {\n",
    "    \"User-ID\": x['User-ID'],\n",
    "    \"Book-Title\": x['Book-Title'],\n",
    "    \"Book-Rating\": x['Book-Rating']\n",
    "})"
   ]
  },
  {
   "cell_type": "code",
   "execution_count": 124,
   "id": "e72bd29d",
   "metadata": {},
   "outputs": [],
   "source": [
    "tf.random.set_seed = 42\n",
    "\n",
    "shuffled = rating_rank.shuffle(100_000, seed=None,reshuffle_each_iteration=False)\n",
    "train = shuffled.take(80_000)\n",
    "test = shuffled.skip(80_000).take(20_000)"
   ]
  },
  {
   "cell_type": "code",
   "execution_count": 125,
   "id": "f2aa002a",
   "metadata": {},
   "outputs": [],
   "source": [
    "book_titles = rating_rank.batch(1_000_000).map(lambda x: x['Book-Title'])\n",
    "user_ids = rating_rank.batch(1_000_000).map(lambda x: x['User-ID'])\n",
    "\n",
    "unique_book_titles = np.unique(np.concatenate(list(book_titles)))\n",
    "unique_users = np.unique(np.concatenate(list(user_ids)))"
   ]
  },
  {
   "cell_type": "markdown",
   "id": "04767771",
   "metadata": {},
   "source": [
    "#### Model development"
   ]
  },
  {
   "cell_type": "code",
   "execution_count": 126,
   "id": "8300604e",
   "metadata": {},
   "outputs": [],
   "source": [
    "class RankingModel(tf.keras.Model):\n",
    "    def __init__(self):\n",
    "        super().__init__()\n",
    "        embedding_dim = 32\n",
    "        self.book_embedding = tf.keras.Sequential([\n",
    "            tf.keras.layers.StringLookup(vocabulary=unique_book_titles, mask_token=None),\n",
    "            tf.keras.layers.Embedding(len(unique_book_titles)+1, embedding_dim)\n",
    "        ])\n",
    "        self.user_embedding = tf.keras.Sequential([\n",
    "            tf.keras.layers.StringLookup(vocabulary=unique_users, mask_token=None),\n",
    "            tf.keras.layers.Embedding(len(unique_users)+1, embedding_dim)\n",
    "        ])\n",
    "        self.ratings = tf.keras.Sequential([\n",
    "            tf.keras.layers.Dense(256, activation='relu'),\n",
    "            tf.keras.layers.Dense(64, activation='relu'),\n",
    "            tf.keras.layers.Dense(1)\n",
    "        ])\n",
    "        \n",
    "    def call(self, inputs):\n",
    "        user_id, book_title = inputs\n",
    "        \n",
    "        book_embedding = self.book_embedding(book_title)\n",
    "        user_embedding = self.user_embedding(user_id)\n",
    "        \n",
    "        return self.ratings(tf.concat([user_embedding, book_embedding], axis=1))"
   ]
  },
  {
   "cell_type": "code",
   "execution_count": 109,
   "id": "c7ab11ec",
   "metadata": {
    "scrolled": true
   },
   "outputs": [
    {
     "name": "stdout",
     "output_type": "stream",
     "text": [
      "WARNING:tensorflow:Layers in a Sequential model should only have a single input tensor. Received: inputs=['The Notebook']. Consider rewriting this model with the Functional API.\n",
      "WARNING:tensorflow:Layers in a Sequential model should only have a single input tensor. Received: inputs=['10001']. Consider rewriting this model with the Functional API.\n"
     ]
    },
    {
     "data": {
      "text/plain": [
       "<tf.Tensor: shape=(1, 1), dtype=float32, numpy=array([[-0.00699688]], dtype=float32)>"
      ]
     },
     "execution_count": 109,
     "metadata": {},
     "output_type": "execute_result"
    }
   ],
   "source": [
    "RankingModel()(([\"10001\"], [\"The Notebook\"]))"
   ]
  },
  {
   "cell_type": "code",
   "execution_count": 80,
   "id": "9fffdbaa",
   "metadata": {},
   "outputs": [],
   "source": [
    "task = tfrs.tasks.Ranking(\n",
    "    loss = tf.keras.losses.MeanSquaredError(),\n",
    "    metrics = [tf.keras.metrics.RootMeanSquaredError()])"
   ]
  },
  {
   "cell_type": "code",
   "execution_count": 152,
   "id": "19b6b979",
   "metadata": {},
   "outputs": [],
   "source": [
    "class BookrankModel(tfrs.models.Model):\n",
    "    def __init__(self):\n",
    "        super().__init__()\n",
    "        self.ranking_model = RankingModel()\n",
    "        self.task = tfrs.tasks.Ranking(\n",
    "            loss = tf.keras.losses.MeanSquaredError(),\n",
    "            metrics = [tf.keras.metrics.RootMeanSquaredError()])\n",
    "        \n",
    "    def call(self, features):\n",
    "            return self.ranking_model(\n",
    "                (features[\"User-ID\"],features[\"Book-Title\"])\n",
    "            )\n",
    "        \n",
    "    def compute_loss(self, features, training=False):\n",
    "            labels = features.pop(\"Book-Rating\")\n",
    "            rating_predictions = self(features)\n",
    "            \n",
    "            return self.task(labels=labels, predictions=rating_predictions)"
   ]
  },
  {
   "cell_type": "code",
   "execution_count": 153,
   "id": "306c5ebf",
   "metadata": {},
   "outputs": [],
   "source": [
    "model_rank = BookrankModel()\n",
    "model_rank.compile(optimizer=tf.keras.optimizers.Adagrad(learning_rate=0.1))"
   ]
  },
  {
   "cell_type": "code",
   "execution_count": 154,
   "id": "118b32f6",
   "metadata": {},
   "outputs": [],
   "source": [
    "cached_train = train.shuffle(100_000).batch(8192).cache()\n",
    "cached_test = test.batch(4096).cache()"
   ]
  },
  {
   "cell_type": "code",
   "execution_count": 155,
   "id": "d940ac13",
   "metadata": {
    "collapsed": true
   },
   "outputs": [
    {
     "name": "stdout",
     "output_type": "stream",
     "text": [
      "Epoch 1/3\n",
      "10/10 [==============================] - 2s 59ms/step - root_mean_squared_error: 4.2267 - loss: 17.5705 - regularization_loss: 0.0000e+00 - total_loss: 17.5705\n",
      "Epoch 2/3\n",
      "10/10 [==============================] - 0s 33ms/step - root_mean_squared_error: 3.9231 - loss: 15.3640 - regularization_loss: 0.0000e+00 - total_loss: 15.3640\n",
      "Epoch 3/3\n",
      "10/10 [==============================] - 0s 32ms/step - root_mean_squared_error: 3.9063 - loss: 15.2241 - regularization_loss: 0.0000e+00 - total_loss: 15.2241\n"
     ]
    },
    {
     "data": {
      "text/plain": [
       "<keras.callbacks.History at 0x1a655fdc610>"
      ]
     },
     "execution_count": 155,
     "metadata": {},
     "output_type": "execute_result"
    }
   ],
   "source": [
    "model_rank.fit(cached_train, epochs=3)"
   ]
  },
  {
   "cell_type": "code",
   "execution_count": 157,
   "id": "a2c34bc4",
   "metadata": {
    "collapsed": true
   },
   "outputs": [
    {
     "name": "stdout",
     "output_type": "stream",
     "text": [
      "5/5 [==============================] - 1s 51ms/step - root_mean_squared_error: 3.8647 - loss: 14.9406 - regularization_loss: 0.0000e+00 - total_loss: 14.9406\n"
     ]
    },
    {
     "data": {
      "text/plain": [
       "{'root_mean_squared_error': 3.864675521850586,\n",
       " 'loss': 14.96182918548584,\n",
       " 'regularization_loss': 0,\n",
       " 'total_loss': 14.96182918548584}"
      ]
     },
     "execution_count": 157,
     "metadata": {},
     "output_type": "execute_result"
    }
   ],
   "source": [
    "model_rank.evaluate(cached_test, return_dict=True)"
   ]
  },
  {
   "cell_type": "code",
   "execution_count": 165,
   "id": "09de09c5",
   "metadata": {},
   "outputs": [],
   "source": [
    "test_ranking = {}\n",
    "test_titles = ['Nemesis', 'I Is for Innocent', 'Out of Africa ; and, Shadows on the grass']\n",
    "\n",
    "for book_titles in test_titles:\n",
    "    test_ranking[book_titles] = model_rank({\n",
    "        \"User-ID\" : np.array([\"100011\"]),\n",
    "        \"Book-Title\" : np.array([book_titles])\n",
    "    })"
   ]
  },
  {
   "cell_type": "code",
   "execution_count": 166,
   "id": "fb65591f",
   "metadata": {
    "collapsed": true
   },
   "outputs": [
    {
     "name": "stdout",
     "output_type": "stream",
     "text": [
      "{'Nemesis': <tf.Tensor: shape=(1, 1), dtype=float32, numpy=array([[2.9469976]], dtype=float32)>, 'I Is for Innocent': <tf.Tensor: shape=(1, 1), dtype=float32, numpy=array([[2.9540777]], dtype=float32)>, 'Out of Africa ; and, Shadows on the grass': <tf.Tensor: shape=(1, 1), dtype=float32, numpy=array([[3.0142553]], dtype=float32)>}\n"
     ]
    }
   ],
   "source": [
    "print(test_ranking)"
   ]
  },
  {
   "cell_type": "code",
   "execution_count": 168,
   "id": "6ac2be02",
   "metadata": {
    "collapsed": true
   },
   "outputs": [
    {
     "name": "stdout",
     "output_type": "stream",
     "text": [
      "Out of Africa ; and, Shadows on the grass: [[3.0142553]]\n",
      "I Is for Innocent: [[2.9540777]]\n",
      "Nemesis: [[2.9469976]]\n"
     ]
    }
   ],
   "source": [
    "for title, score in sorted(test_ranking.items(), key=lambda x: x[1], reverse=True):\n",
    "  print(f\"{title}: {score}\")"
   ]
  },
  {
   "cell_type": "code",
   "execution_count": null,
   "id": "06caa922",
   "metadata": {},
   "outputs": [],
   "source": []
  },
  {
   "cell_type": "code",
   "execution_count": null,
   "id": "1cb2dda3",
   "metadata": {},
   "outputs": [],
   "source": []
  },
  {
   "cell_type": "code",
   "execution_count": null,
   "id": "a1a513bc",
   "metadata": {},
   "outputs": [],
   "source": []
  },
  {
   "cell_type": "markdown",
   "id": "ee8e7c6a",
   "metadata": {},
   "source": [
    "## Multi-task model Recommendation"
   ]
  },
  {
   "cell_type": "code",
   "execution_count": 174,
   "id": "5f1735d5",
   "metadata": {},
   "outputs": [],
   "source": [
    "class BooktaskModel(tfrs.models.Model):\n",
    "    def __init__(self, rating_weight, retrieval_weight):\n",
    "        super().__init__()\n",
    "        embedding_dim = 32\n",
    "        \n",
    "        self.book_model = tf.keras.Sequential([\n",
    "            tf.keras.layers.StringLookup(vocabulary=unique_book_titles, mask_token=None),\n",
    "            tf.keras.layers.Embedding(len(unique_book_titles)+1, embedding_dim)\n",
    "        ])\n",
    "        \n",
    "        self.user_model = tf.keras.Sequential([\n",
    "            tf.keras.layers.StringLookup(vocabulary=unique_users, mask_token=None),\n",
    "            tf.keras.layers.Embedding(len(unique_users)+1, embedding_dim)\n",
    "        ])\n",
    "        \n",
    "        self.ratings = tf.keras.Sequential([\n",
    "            tf.keras.layers.Dense(256, activation='relu'),\n",
    "            tf.keras.layers.Dense(64, activation='relu'),\n",
    "            tf.keras.layers.Dense(1)\n",
    "        ])\n",
    "        self.rating_task = tfrs.tasks.Ranking(\n",
    "            loss = tf.keras.losses.MeanSquaredError(),\n",
    "            metrics = [tf.keras.metrics.RootMeanSquaredError()])\n",
    "        \n",
    "        self.retrieval_task = tfrs.tasks.Retrieval(\n",
    "            metrics=tfrs.metrics.FactorizedTopK(candidates=books.batch(128).map(self.book_model))\n",
    "        )\n",
    "        \n",
    "    \n",
    "        self.rating_weight = rating_weight\n",
    "        self.retrieval_weight = retrieval_weight\n",
    "        \n",
    "    def call(self, features):\n",
    "        user_embedding = self.user_model(features['User-ID'])\n",
    "        book_embedding = self.book_model(features['Book-Title'])\n",
    "        \n",
    "        return (user_embedding, book_embedding, self.ratings(tf.concat([user_embedding, book_embedding], axis=1)))\n",
    "    \n",
    "    def compute_loss(self, features, training=False):\n",
    "        \n",
    "        labels = features.pop(\"Book-Rating\")\n",
    "        user_embedding, book_embedding, rating_predictions = self(features)\n",
    "        \n",
    "        rating_loss = self.rating_task(labels=labels, predictions=rating_predictions)\n",
    "        retrieval_loss = self.retrieval_task(user_embedding, book_embedding)\n",
    "        \n",
    "        return(self.rating_weight*rating_loss +  self.retrieval_weight*retrieval_loss)"
   ]
  },
  {
   "cell_type": "code",
   "execution_count": 175,
   "id": "8a206d97",
   "metadata": {},
   "outputs": [],
   "source": [
    "multi_model = BooktaskModel(1,1)\n",
    "multi_model.compile(optimizer=tf.keras.optimizers.Adagrad(learning_rate=0.1))"
   ]
  },
  {
   "cell_type": "code",
   "execution_count": 176,
   "id": "5759123e",
   "metadata": {
    "scrolled": false
   },
   "outputs": [
    {
     "name": "stdout",
     "output_type": "stream",
     "text": [
      "Epoch 1/3\n",
      "10/10 [==============================] - 14147s 1564s/step - root_mean_squared_error: 4.1911 - factorized_top_k/top_1_categorical_accuracy: 1.2500e-05 - factorized_top_k/top_5_categorical_accuracy: 6.2500e-05 - factorized_top_k/top_10_categorical_accuracy: 1.5000e-04 - factorized_top_k/top_50_categorical_accuracy: 5.2500e-04 - factorized_top_k/top_100_categorical_accuracy: 0.0011 - loss: 70333.6982 - regularization_loss: 0.0000e+00 - total_loss: 70333.6982\n",
      "Epoch 2/3\n",
      "10/10 [==============================] - 814s 81s/step - root_mean_squared_error: 4.0096 - factorized_top_k/top_1_categorical_accuracy: 0.0511 - factorized_top_k/top_5_categorical_accuracy: 0.0641 - factorized_top_k/top_10_categorical_accuracy: 0.0772 - factorized_top_k/top_50_categorical_accuracy: 0.1252 - factorized_top_k/top_100_categorical_accuracy: 0.1586 - loss: 69037.2607 - regularization_loss: 0.0000e+00 - total_loss: 69037.2607\n",
      "Epoch 3/3\n",
      "10/10 [==============================] - 815s 81s/step - root_mean_squared_error: 3.8593 - factorized_top_k/top_1_categorical_accuracy: 0.2295 - factorized_top_k/top_5_categorical_accuracy: 0.2615 - factorized_top_k/top_10_categorical_accuracy: 0.2921 - factorized_top_k/top_50_categorical_accuracy: 0.3913 - factorized_top_k/top_100_categorical_accuracy: 0.4512 - loss: 65651.0327 - regularization_loss: 0.0000e+00 - total_loss: 65651.0327\n",
      "5/5 [==============================] - 213s 42s/step - root_mean_squared_error: 3.8781 - factorized_top_k/top_1_categorical_accuracy: 0.0369 - factorized_top_k/top_5_categorical_accuracy: 0.0471 - factorized_top_k/top_10_categorical_accuracy: 0.0586 - factorized_top_k/top_50_categorical_accuracy: 0.0981 - factorized_top_k/top_100_categorical_accuracy: 0.1255 - loss: 32471.8548 - regularization_loss: 0.0000e+00 - total_loss: 32471.8548\n"
     ]
    }
   ],
   "source": [
    "multi_model.fit(cached_train, epochs=3)\n",
    "metrics = multi_model.evaluate(cached_test, return_dict=True)"
   ]
  },
  {
   "cell_type": "code",
   "execution_count": 177,
   "id": "5306c279",
   "metadata": {},
   "outputs": [
    {
     "name": "stdout",
     "output_type": "stream",
     "text": [
      "Retrieval top-100 accuracy: 0.125.\n",
      "Ranking RMSE: 3.878.\n"
     ]
    }
   ],
   "source": [
    "print(f\"Retrieval top-100 accuracy: {metrics['factorized_top_k/top_100_categorical_accuracy']:.3f}.\")\n",
    "print(f\"Ranking RMSE: {metrics['root_mean_squared_error']:.3f}.\")"
   ]
  },
  {
   "cell_type": "code",
   "execution_count": 179,
   "id": "48ce617a",
   "metadata": {},
   "outputs": [
    {
     "name": "stdout",
     "output_type": "stream",
     "text": [
      "Predicted rating:\n",
      "tf.Tensor([[4.261733]], shape=(1, 1), dtype=float32)\n"
     ]
    }
   ],
   "source": [
    "trained_movie_embeddings, trained_user_embeddings, predicted_rating = multi_model({\n",
    "      \"User-ID\": np.array([\"100042\"]),\n",
    "      \"Book-Title\": np.array([\"I Is for Innocent\"])\n",
    "  })\n",
    "print(\"Predicted rating:\")\n",
    "print(predicted_rating)\n"
   ]
  }
 ],
 "metadata": {
  "kernelspec": {
   "display_name": "recommenders",
   "language": "python",
   "name": "recommenders"
  },
  "language_info": {
   "codemirror_mode": {
    "name": "ipython",
    "version": 3
   },
   "file_extension": ".py",
   "mimetype": "text/x-python",
   "name": "python",
   "nbconvert_exporter": "python",
   "pygments_lexer": "ipython3",
   "version": "3.10.1"
  }
 },
 "nbformat": 4,
 "nbformat_minor": 5
}
