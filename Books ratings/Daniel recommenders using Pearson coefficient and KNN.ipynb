{
 "cells": [
  {
   "cell_type": "code",
   "execution_count": 23,
   "id": "ee30e12d",
   "metadata": {},
   "outputs": [],
   "source": [
    "# import the necessary libraries\n",
    "import numpy as np\n",
    "import pandas as pd\n",
    "import matplotlib.pyplot as plt\n",
    "from sklearn.neighbors import NearestNeighbors\n",
    "from scipy.sparse import csr_matrix"
   ]
  },
  {
   "cell_type": "code",
   "execution_count": 2,
   "id": "5d4ca765",
   "metadata": {},
   "outputs": [],
   "source": [
    "# reading csv files into dataframes\n",
    "user_data = pd.read_csv('data/BX-CSV/BX-Users.csv', delimiter=';', encoding='latin-1')\n",
    "book_data = pd.read_csv('data/BX-CSV/BX-Books.csv', delimiter=';', encoding='latin-1', on_bad_lines='skip',low_memory=False)\n",
    "rating_data = pd.read_csv('data/BX-CSV/BX-Book-Ratings.csv', delimiter=';', encoding='latin-1')"
   ]
  },
  {
   "cell_type": "markdown",
   "id": "2104b737",
   "metadata": {},
   "source": [
    "## Preprocess the data"
   ]
  },
  {
   "cell_type": "code",
   "execution_count": 3,
   "id": "011206e3",
   "metadata": {},
   "outputs": [],
   "source": [
    "# creating a new feature 'country' after spliting values in 'location' and getting a singular value\n",
    "user_data['Country'] = user_data['Location'].map(lambda x: x.split(', '))\n",
    "user_data['Country'] = user_data['Country'].map(lambda x: x[-1])\n",
    "\n",
    "# dropping off unnecessary columns\n",
    "user_data = user_data.drop(['Location', 'Age'], axis=1)"
   ]
  },
  {
   "cell_type": "code",
   "execution_count": 4,
   "id": "3c800b5d",
   "metadata": {},
   "outputs": [],
   "source": [
    "# selecting users from specific regions particularly usa and spain\n",
    "regional_data = user_data[(user_data['Country'] == 'spain')|(user_data['Country'] == 'usa')]"
   ]
  },
  {
   "cell_type": "code",
   "execution_count": 5,
   "id": "a5c63f75",
   "metadata": {},
   "outputs": [],
   "source": [
    "book_data = book_data.drop(['Publisher','Image-URL-S', 'Image-URL-M', 'Image-URL-L'], axis=1)"
   ]
  },
  {
   "cell_type": "code",
   "execution_count": 6,
   "id": "2d30e335",
   "metadata": {},
   "outputs": [],
   "source": [
    "# merging data to get the title of the books and their ratings\n",
    "ratings = rating_data.merge(book_data, on='ISBN')"
   ]
  },
  {
   "cell_type": "code",
   "execution_count": 7,
   "id": "5c98f22b",
   "metadata": {},
   "outputs": [],
   "source": [
    "# getting the popularity of a book by knowing the total no of rating done on it\n",
    "# setting the threshold to 50\n",
    "count_ratings = ratings['Book-Title'].value_counts() > 50\n",
    "col = count_ratings[count_ratings == True]\n",
    "rated_data = ratings[ratings['Book-Title'].isin(col.index)]"
   ]
  },
  {
   "cell_type": "markdown",
   "id": "2778d08c",
   "metadata": {},
   "source": [
    "## Collaborative filtering method"
   ]
  },
  {
   "cell_type": "code",
   "execution_count": 8,
   "id": "e03024d4",
   "metadata": {},
   "outputs": [],
   "source": [
    "# getting specific features from the rated_data\n",
    "ratings = rated_data[['Book-Title', 'User-ID', 'Book-Rating']]"
   ]
  },
  {
   "cell_type": "code",
   "execution_count": 9,
   "id": "7773946f",
   "metadata": {
    "collapsed": true
   },
   "outputs": [
    {
     "name": "stderr",
     "output_type": "stream",
     "text": [
      "C:\\Users\\user\\AppData\\Local\\Temp\\ipykernel_11528\\269154054.py:1: SettingWithCopyWarning: \n",
      "A value is trying to be set on a copy of a slice from a DataFrame.\n",
      "Try using .loc[row_indexer,col_indexer] = value instead\n",
      "\n",
      "See the caveats in the documentation: https://pandas.pydata.org/pandas-docs/stable/user_guide/indexing.html#returning-a-view-versus-a-copy\n",
      "  ratings['Book-Title'] = ratings['Book-Title'].astype(str)\n",
      "C:\\Users\\user\\AppData\\Local\\Temp\\ipykernel_11528\\269154054.py:2: SettingWithCopyWarning: \n",
      "A value is trying to be set on a copy of a slice from a DataFrame.\n",
      "Try using .loc[row_indexer,col_indexer] = value instead\n",
      "\n",
      "See the caveats in the documentation: https://pandas.pydata.org/pandas-docs/stable/user_guide/indexing.html#returning-a-view-versus-a-copy\n",
      "  ratings['User-ID'] = ratings['User-ID'].astype(str)\n",
      "C:\\Users\\user\\AppData\\Local\\Temp\\ipykernel_11528\\269154054.py:3: SettingWithCopyWarning: \n",
      "A value is trying to be set on a copy of a slice from a DataFrame.\n",
      "Try using .loc[row_indexer,col_indexer] = value instead\n",
      "\n",
      "See the caveats in the documentation: https://pandas.pydata.org/pandas-docs/stable/user_guide/indexing.html#returning-a-view-versus-a-copy\n",
      "  ratings['Book-Rating'] = ratings['Book-Rating'].astype(int)\n"
     ]
    }
   ],
   "source": [
    "# converting feature datatype to correct one\n",
    "ratings['Book-Title'] = ratings['Book-Title'].astype(str)\n",
    "ratings['User-ID'] = ratings['User-ID'].astype(str)\n",
    "ratings['Book-Rating'] = ratings['Book-Rating'].astype(int)"
   ]
  },
  {
   "cell_type": "code",
   "execution_count": 10,
   "id": "b7b54376",
   "metadata": {},
   "outputs": [],
   "source": [
    "# error in pivot due to shape\n",
    "# dropping duplicates\n",
    "ratings = ratings.drop_duplicates(['Book-Title', 'User-ID'])"
   ]
  },
  {
   "cell_type": "code",
   "execution_count": 29,
   "id": "661e0e64",
   "metadata": {},
   "outputs": [],
   "source": [
    "# pivot table for cluster of users around a particular book\n",
    "pivoted_data = pd.pivot_table(ratings, columns='User-ID', index='Book-Title', values='Book-Rating', fill_value=0)"
   ]
  },
  {
   "cell_type": "code",
   "execution_count": 70,
   "id": "93a7de93",
   "metadata": {},
   "outputs": [],
   "source": [
    "# pivot table for pearson correlation mapping similar user experience of books for correlations\n",
    "pivoted_data_corr =  pd.pivot_table(ratings, index='User-ID', columns='Book-Title', values='Book-Rating', fill_value=0)"
   ]
  },
  {
   "cell_type": "code",
   "execution_count": 30,
   "id": "8dcc3d01",
   "metadata": {
    "collapsed": true
   },
   "outputs": [
    {
     "data": {
      "text/html": [
       "<div>\n",
       "<style scoped>\n",
       "    .dataframe tbody tr th:only-of-type {\n",
       "        vertical-align: middle;\n",
       "    }\n",
       "\n",
       "    .dataframe tbody tr th {\n",
       "        vertical-align: top;\n",
       "    }\n",
       "\n",
       "    .dataframe thead th {\n",
       "        text-align: right;\n",
       "    }\n",
       "</style>\n",
       "<table border=\"1\" class=\"dataframe\">\n",
       "  <thead>\n",
       "    <tr style=\"text-align: right;\">\n",
       "      <th>User-ID</th>\n",
       "      <th>100001</th>\n",
       "      <th>100002</th>\n",
       "      <th>100004</th>\n",
       "      <th>100009</th>\n",
       "      <th>10001</th>\n",
       "      <th>100010</th>\n",
       "      <th>100015</th>\n",
       "      <th>100025</th>\n",
       "      <th>100029</th>\n",
       "      <th>100030</th>\n",
       "      <th>...</th>\n",
       "      <th>99954</th>\n",
       "      <th>99955</th>\n",
       "      <th>99963</th>\n",
       "      <th>99970</th>\n",
       "      <th>99973</th>\n",
       "      <th>99980</th>\n",
       "      <th>99982</th>\n",
       "      <th>99992</th>\n",
       "      <th>99996</th>\n",
       "      <th>99997</th>\n",
       "    </tr>\n",
       "    <tr>\n",
       "      <th>Book-Title</th>\n",
       "      <th></th>\n",
       "      <th></th>\n",
       "      <th></th>\n",
       "      <th></th>\n",
       "      <th></th>\n",
       "      <th></th>\n",
       "      <th></th>\n",
       "      <th></th>\n",
       "      <th></th>\n",
       "      <th></th>\n",
       "      <th></th>\n",
       "      <th></th>\n",
       "      <th></th>\n",
       "      <th></th>\n",
       "      <th></th>\n",
       "      <th></th>\n",
       "      <th></th>\n",
       "      <th></th>\n",
       "      <th></th>\n",
       "      <th></th>\n",
       "      <th></th>\n",
       "    </tr>\n",
       "  </thead>\n",
       "  <tbody>\n",
       "    <tr>\n",
       "      <th>10 Lb. Penalty</th>\n",
       "      <td>0</td>\n",
       "      <td>0</td>\n",
       "      <td>0</td>\n",
       "      <td>0</td>\n",
       "      <td>0</td>\n",
       "      <td>0</td>\n",
       "      <td>0</td>\n",
       "      <td>0</td>\n",
       "      <td>0</td>\n",
       "      <td>0</td>\n",
       "      <td>...</td>\n",
       "      <td>0</td>\n",
       "      <td>0</td>\n",
       "      <td>0</td>\n",
       "      <td>0</td>\n",
       "      <td>0</td>\n",
       "      <td>0</td>\n",
       "      <td>0</td>\n",
       "      <td>0</td>\n",
       "      <td>0</td>\n",
       "      <td>0</td>\n",
       "    </tr>\n",
       "    <tr>\n",
       "      <th>16 Lighthouse Road</th>\n",
       "      <td>0</td>\n",
       "      <td>0</td>\n",
       "      <td>0</td>\n",
       "      <td>0</td>\n",
       "      <td>0</td>\n",
       "      <td>0</td>\n",
       "      <td>0</td>\n",
       "      <td>0</td>\n",
       "      <td>0</td>\n",
       "      <td>0</td>\n",
       "      <td>...</td>\n",
       "      <td>0</td>\n",
       "      <td>0</td>\n",
       "      <td>0</td>\n",
       "      <td>0</td>\n",
       "      <td>0</td>\n",
       "      <td>0</td>\n",
       "      <td>0</td>\n",
       "      <td>0</td>\n",
       "      <td>0</td>\n",
       "      <td>0</td>\n",
       "    </tr>\n",
       "    <tr>\n",
       "      <th>1984</th>\n",
       "      <td>0</td>\n",
       "      <td>0</td>\n",
       "      <td>0</td>\n",
       "      <td>0</td>\n",
       "      <td>0</td>\n",
       "      <td>0</td>\n",
       "      <td>0</td>\n",
       "      <td>0</td>\n",
       "      <td>0</td>\n",
       "      <td>0</td>\n",
       "      <td>...</td>\n",
       "      <td>0</td>\n",
       "      <td>0</td>\n",
       "      <td>0</td>\n",
       "      <td>0</td>\n",
       "      <td>0</td>\n",
       "      <td>0</td>\n",
       "      <td>0</td>\n",
       "      <td>0</td>\n",
       "      <td>0</td>\n",
       "      <td>0</td>\n",
       "    </tr>\n",
       "    <tr>\n",
       "      <th>1st to Die: A Novel</th>\n",
       "      <td>0</td>\n",
       "      <td>0</td>\n",
       "      <td>0</td>\n",
       "      <td>0</td>\n",
       "      <td>0</td>\n",
       "      <td>0</td>\n",
       "      <td>0</td>\n",
       "      <td>0</td>\n",
       "      <td>0</td>\n",
       "      <td>0</td>\n",
       "      <td>...</td>\n",
       "      <td>0</td>\n",
       "      <td>0</td>\n",
       "      <td>0</td>\n",
       "      <td>0</td>\n",
       "      <td>0</td>\n",
       "      <td>0</td>\n",
       "      <td>0</td>\n",
       "      <td>0</td>\n",
       "      <td>0</td>\n",
       "      <td>0</td>\n",
       "    </tr>\n",
       "    <tr>\n",
       "      <th>2010: Odyssey Two</th>\n",
       "      <td>0</td>\n",
       "      <td>0</td>\n",
       "      <td>0</td>\n",
       "      <td>0</td>\n",
       "      <td>0</td>\n",
       "      <td>0</td>\n",
       "      <td>0</td>\n",
       "      <td>0</td>\n",
       "      <td>0</td>\n",
       "      <td>0</td>\n",
       "      <td>...</td>\n",
       "      <td>0</td>\n",
       "      <td>0</td>\n",
       "      <td>0</td>\n",
       "      <td>0</td>\n",
       "      <td>0</td>\n",
       "      <td>0</td>\n",
       "      <td>0</td>\n",
       "      <td>0</td>\n",
       "      <td>0</td>\n",
       "      <td>0</td>\n",
       "    </tr>\n",
       "  </tbody>\n",
       "</table>\n",
       "<p>5 rows × 47740 columns</p>\n",
       "</div>"
      ],
      "text/plain": [
       "User-ID              100001  100002  100004  100009  10001  100010  100015  \\\n",
       "Book-Title                                                                   \n",
       "10 Lb. Penalty            0       0       0       0      0       0       0   \n",
       "16 Lighthouse Road        0       0       0       0      0       0       0   \n",
       "1984                      0       0       0       0      0       0       0   \n",
       "1st to Die: A Novel       0       0       0       0      0       0       0   \n",
       "2010: Odyssey Two         0       0       0       0      0       0       0   \n",
       "\n",
       "User-ID              100025  100029  100030  ...  99954  99955  99963  99970  \\\n",
       "Book-Title                                   ...                               \n",
       "10 Lb. Penalty            0       0       0  ...      0      0      0      0   \n",
       "16 Lighthouse Road        0       0       0  ...      0      0      0      0   \n",
       "1984                      0       0       0  ...      0      0      0      0   \n",
       "1st to Die: A Novel       0       0       0  ...      0      0      0      0   \n",
       "2010: Odyssey Two         0       0       0  ...      0      0      0      0   \n",
       "\n",
       "User-ID              99973  99980  99982  99992  99996  99997  \n",
       "Book-Title                                                     \n",
       "10 Lb. Penalty           0      0      0      0      0      0  \n",
       "16 Lighthouse Road       0      0      0      0      0      0  \n",
       "1984                     0      0      0      0      0      0  \n",
       "1st to Die: A Novel      0      0      0      0      0      0  \n",
       "2010: Odyssey Two        0      0      0      0      0      0  \n",
       "\n",
       "[5 rows x 47740 columns]"
      ]
     },
     "execution_count": 30,
     "metadata": {},
     "output_type": "execute_result"
    }
   ],
   "source": [
    "pivoted_data.head()"
   ]
  },
  {
   "cell_type": "code",
   "execution_count": 74,
   "id": "3d04b5cb",
   "metadata": {},
   "outputs": [
    {
     "data": {
      "text/html": [
       "<div>\n",
       "<style scoped>\n",
       "    .dataframe tbody tr th:only-of-type {\n",
       "        vertical-align: middle;\n",
       "    }\n",
       "\n",
       "    .dataframe tbody tr th {\n",
       "        vertical-align: top;\n",
       "    }\n",
       "\n",
       "    .dataframe thead th {\n",
       "        text-align: right;\n",
       "    }\n",
       "</style>\n",
       "<table border=\"1\" class=\"dataframe\">\n",
       "  <thead>\n",
       "    <tr style=\"text-align: right;\">\n",
       "      <th>Book-Title</th>\n",
       "      <th>10 Lb. Penalty</th>\n",
       "      <th>16 Lighthouse Road</th>\n",
       "      <th>1984</th>\n",
       "      <th>1st to Die: A Novel</th>\n",
       "      <th>2010: Odyssey Two</th>\n",
       "      <th>204 Rosewood Lane</th>\n",
       "      <th>2061: Odyssey Three</th>\n",
       "      <th>24 Hours</th>\n",
       "      <th>2nd Chance</th>\n",
       "      <th>3rd Degree</th>\n",
       "      <th>...</th>\n",
       "      <th>YOU BELONG TO ME</th>\n",
       "      <th>Year of Wonders</th>\n",
       "      <th>You Belong To Me</th>\n",
       "      <th>You Shall Know Our Velocity</th>\n",
       "      <th>Young Wives</th>\n",
       "      <th>Zen and the Art of Motorcycle Maintenance: An Inquiry into Values</th>\n",
       "      <th>Zoya</th>\n",
       "      <th>\\O\\\" Is for Outlaw\"</th>\n",
       "      <th>\\Surely You're Joking, Mr. Feynman!\\\": Adventures of a Curious Character\"</th>\n",
       "      <th>stardust</th>\n",
       "    </tr>\n",
       "    <tr>\n",
       "      <th>User-ID</th>\n",
       "      <th></th>\n",
       "      <th></th>\n",
       "      <th></th>\n",
       "      <th></th>\n",
       "      <th></th>\n",
       "      <th></th>\n",
       "      <th></th>\n",
       "      <th></th>\n",
       "      <th></th>\n",
       "      <th></th>\n",
       "      <th></th>\n",
       "      <th></th>\n",
       "      <th></th>\n",
       "      <th></th>\n",
       "      <th></th>\n",
       "      <th></th>\n",
       "      <th></th>\n",
       "      <th></th>\n",
       "      <th></th>\n",
       "      <th></th>\n",
       "      <th></th>\n",
       "    </tr>\n",
       "  </thead>\n",
       "  <tbody>\n",
       "    <tr>\n",
       "      <th>100001</th>\n",
       "      <td>0</td>\n",
       "      <td>0</td>\n",
       "      <td>0</td>\n",
       "      <td>0</td>\n",
       "      <td>0</td>\n",
       "      <td>0</td>\n",
       "      <td>0</td>\n",
       "      <td>0</td>\n",
       "      <td>0</td>\n",
       "      <td>0</td>\n",
       "      <td>...</td>\n",
       "      <td>0</td>\n",
       "      <td>0</td>\n",
       "      <td>0</td>\n",
       "      <td>0</td>\n",
       "      <td>0</td>\n",
       "      <td>0</td>\n",
       "      <td>0</td>\n",
       "      <td>0</td>\n",
       "      <td>0</td>\n",
       "      <td>0</td>\n",
       "    </tr>\n",
       "    <tr>\n",
       "      <th>100002</th>\n",
       "      <td>0</td>\n",
       "      <td>0</td>\n",
       "      <td>0</td>\n",
       "      <td>0</td>\n",
       "      <td>0</td>\n",
       "      <td>0</td>\n",
       "      <td>0</td>\n",
       "      <td>0</td>\n",
       "      <td>0</td>\n",
       "      <td>0</td>\n",
       "      <td>...</td>\n",
       "      <td>0</td>\n",
       "      <td>0</td>\n",
       "      <td>0</td>\n",
       "      <td>0</td>\n",
       "      <td>0</td>\n",
       "      <td>0</td>\n",
       "      <td>0</td>\n",
       "      <td>0</td>\n",
       "      <td>0</td>\n",
       "      <td>0</td>\n",
       "    </tr>\n",
       "    <tr>\n",
       "      <th>100004</th>\n",
       "      <td>0</td>\n",
       "      <td>0</td>\n",
       "      <td>0</td>\n",
       "      <td>0</td>\n",
       "      <td>0</td>\n",
       "      <td>0</td>\n",
       "      <td>0</td>\n",
       "      <td>0</td>\n",
       "      <td>0</td>\n",
       "      <td>0</td>\n",
       "      <td>...</td>\n",
       "      <td>0</td>\n",
       "      <td>0</td>\n",
       "      <td>0</td>\n",
       "      <td>0</td>\n",
       "      <td>0</td>\n",
       "      <td>0</td>\n",
       "      <td>0</td>\n",
       "      <td>0</td>\n",
       "      <td>0</td>\n",
       "      <td>0</td>\n",
       "    </tr>\n",
       "    <tr>\n",
       "      <th>100009</th>\n",
       "      <td>0</td>\n",
       "      <td>0</td>\n",
       "      <td>0</td>\n",
       "      <td>0</td>\n",
       "      <td>0</td>\n",
       "      <td>0</td>\n",
       "      <td>0</td>\n",
       "      <td>0</td>\n",
       "      <td>0</td>\n",
       "      <td>0</td>\n",
       "      <td>...</td>\n",
       "      <td>0</td>\n",
       "      <td>0</td>\n",
       "      <td>0</td>\n",
       "      <td>0</td>\n",
       "      <td>0</td>\n",
       "      <td>0</td>\n",
       "      <td>0</td>\n",
       "      <td>0</td>\n",
       "      <td>0</td>\n",
       "      <td>0</td>\n",
       "    </tr>\n",
       "    <tr>\n",
       "      <th>10001</th>\n",
       "      <td>0</td>\n",
       "      <td>0</td>\n",
       "      <td>0</td>\n",
       "      <td>0</td>\n",
       "      <td>0</td>\n",
       "      <td>0</td>\n",
       "      <td>0</td>\n",
       "      <td>0</td>\n",
       "      <td>0</td>\n",
       "      <td>0</td>\n",
       "      <td>...</td>\n",
       "      <td>0</td>\n",
       "      <td>0</td>\n",
       "      <td>0</td>\n",
       "      <td>0</td>\n",
       "      <td>0</td>\n",
       "      <td>0</td>\n",
       "      <td>0</td>\n",
       "      <td>0</td>\n",
       "      <td>0</td>\n",
       "      <td>0</td>\n",
       "    </tr>\n",
       "  </tbody>\n",
       "</table>\n",
       "<p>5 rows × 2381 columns</p>\n",
       "</div>"
      ],
      "text/plain": [
       "Book-Title  10 Lb. Penalty  16 Lighthouse Road  1984  1st to Die: A Novel  \\\n",
       "User-ID                                                                     \n",
       "100001                   0                   0     0                    0   \n",
       "100002                   0                   0     0                    0   \n",
       "100004                   0                   0     0                    0   \n",
       "100009                   0                   0     0                    0   \n",
       "10001                    0                   0     0                    0   \n",
       "\n",
       "Book-Title  2010: Odyssey Two  204 Rosewood Lane  2061: Odyssey Three  \\\n",
       "User-ID                                                                 \n",
       "100001                      0                  0                    0   \n",
       "100002                      0                  0                    0   \n",
       "100004                      0                  0                    0   \n",
       "100009                      0                  0                    0   \n",
       "10001                       0                  0                    0   \n",
       "\n",
       "Book-Title  24 Hours  2nd Chance  3rd Degree  ...  YOU BELONG TO ME  \\\n",
       "User-ID                                       ...                     \n",
       "100001             0           0           0  ...                 0   \n",
       "100002             0           0           0  ...                 0   \n",
       "100004             0           0           0  ...                 0   \n",
       "100009             0           0           0  ...                 0   \n",
       "10001              0           0           0  ...                 0   \n",
       "\n",
       "Book-Title  Year of Wonders  You Belong To Me  You Shall Know Our Velocity  \\\n",
       "User-ID                                                                      \n",
       "100001                    0                 0                            0   \n",
       "100002                    0                 0                            0   \n",
       "100004                    0                 0                            0   \n",
       "100009                    0                 0                            0   \n",
       "10001                     0                 0                            0   \n",
       "\n",
       "Book-Title  Young Wives  \\\n",
       "User-ID                   \n",
       "100001                0   \n",
       "100002                0   \n",
       "100004                0   \n",
       "100009                0   \n",
       "10001                 0   \n",
       "\n",
       "Book-Title  Zen and the Art of Motorcycle Maintenance: An Inquiry into Values  \\\n",
       "User-ID                                                                         \n",
       "100001                                                      0                   \n",
       "100002                                                      0                   \n",
       "100004                                                      0                   \n",
       "100009                                                      0                   \n",
       "10001                                                       0                   \n",
       "\n",
       "Book-Title  Zoya  \\O\\\" Is for Outlaw\"  \\\n",
       "User-ID                                 \n",
       "100001         0                    0   \n",
       "100002         0                    0   \n",
       "100004         0                    0   \n",
       "100009         0                    0   \n",
       "10001          0                    0   \n",
       "\n",
       "Book-Title  \\Surely You're Joking, Mr. Feynman!\\\": Adventures of a Curious Character\"  \\\n",
       "User-ID                                                                                 \n",
       "100001                                                      0                           \n",
       "100002                                                      0                           \n",
       "100004                                                      0                           \n",
       "100009                                                      0                           \n",
       "10001                                                       0                           \n",
       "\n",
       "Book-Title  stardust  \n",
       "User-ID               \n",
       "100001             0  \n",
       "100002             0  \n",
       "100004             0  \n",
       "100009             0  \n",
       "10001              0  \n",
       "\n",
       "[5 rows x 2381 columns]"
      ]
     },
     "execution_count": 74,
     "metadata": {},
     "output_type": "execute_result"
    }
   ],
   "source": [
    "pivoted_data_corr.head()"
   ]
  },
  {
   "cell_type": "code",
   "execution_count": 84,
   "id": "4a6fc80d",
   "metadata": {},
   "outputs": [],
   "source": [
    "# creating sparse matrix for the cluster\n",
    "sparse_matrix = csr_matrix(pivoted_data.values)"
   ]
  },
  {
   "cell_type": "markdown",
   "id": "90329751",
   "metadata": {},
   "source": [
    "## Ranking using pearson correlation"
   ]
  },
  {
   "cell_type": "code",
   "execution_count": 63,
   "id": "f1aa6883",
   "metadata": {
    "scrolled": true
   },
   "outputs": [],
   "source": [
    "name_rate = pivoted_data_corr['10 Lb. Penalty']\n",
    "name = pivoted_data_corr.corrwith(name_rate)"
   ]
  },
  {
   "cell_type": "code",
   "execution_count": 68,
   "id": "88f884e0",
   "metadata": {
    "scrolled": true
   },
   "outputs": [
    {
     "data": {
      "text/plain": [
       "10 Lb. Penalty                                             1.000000\n",
       "Devil's Waltz (Alex Delaware Novels (Paperback))           0.125520\n",
       "The Cat Who Played Post Office (Cat Who... (Paperback))    0.120795\n",
       "Nemesis                                                    0.117074\n",
       "I Is for Innocent                                          0.111409\n",
       "Out of Africa ; and, Shadows on the grass                  0.109654\n",
       "Decider                                                    0.101307\n",
       "The 13th Juror                                             0.101028\n",
       "Split Second (Maggie O'Dell Novels (Paperback))            0.090771\n",
       "Parallel Lies                                              0.090357\n",
       "dtype: float64"
      ]
     },
     "execution_count": 68,
     "metadata": {},
     "output_type": "execute_result"
    }
   ],
   "source": [
    "name.sort_values(ascending=False)[:10]"
   ]
  },
  {
   "cell_type": "markdown",
   "id": "17e4a230",
   "metadata": {},
   "source": [
    "## Using K-Nearest Neighbours"
   ]
  },
  {
   "cell_type": "code",
   "execution_count": 103,
   "id": "b502e093",
   "metadata": {
    "collapsed": true
   },
   "outputs": [
    {
     "data": {
      "text/plain": [
       "User-ID\n",
       "100001    0\n",
       "100002    0\n",
       "100004    0\n",
       "100009    0\n",
       "10001     0\n",
       "         ..\n",
       "99980     0\n",
       "99982     0\n",
       "99992     0\n",
       "99996     0\n",
       "99997     0\n",
       "Name: stardust, Length: 47740, dtype: int64"
      ]
     },
     "execution_count": 103,
     "metadata": {},
     "output_type": "execute_result"
    }
   ],
   "source": [
    "pivoted_data.iloc[2380,:]"
   ]
  },
  {
   "cell_type": "code",
   "execution_count": 85,
   "id": "da0b7830",
   "metadata": {},
   "outputs": [
    {
     "data": {
      "text/plain": [
       "(2381, 47740)"
      ]
     },
     "execution_count": 85,
     "metadata": {},
     "output_type": "execute_result"
    }
   ],
   "source": [
    "pivoted_data.shape"
   ]
  },
  {
   "cell_type": "code",
   "execution_count": 107,
   "id": "b7c86a81",
   "metadata": {
    "collapsed": true
   },
   "outputs": [
    {
     "data": {
      "text/plain": [
       "Index(['10 Lb. Penalty', '16 Lighthouse Road', '1984', '1st to Die: A Novel',\n",
       "       '2010: Odyssey Two', '204 Rosewood Lane', '2061: Odyssey Three',\n",
       "       '24 Hours', '2nd Chance', '3rd Degree',\n",
       "       ...\n",
       "       'YOU BELONG TO ME', 'Year of Wonders', 'You Belong To Me',\n",
       "       'You Shall Know Our Velocity', 'Young Wives',\n",
       "       'Zen and the Art of Motorcycle Maintenance: An Inquiry into Values',\n",
       "       'Zoya', '\\O\\\" Is for Outlaw\"',\n",
       "       '\\Surely You're Joking, Mr. Feynman!\\\": Adventures of a Curious Character\"',\n",
       "       'stardust'],\n",
       "      dtype='object', name='Book-Title', length=2381)"
      ]
     },
     "execution_count": 107,
     "metadata": {},
     "output_type": "execute_result"
    }
   ],
   "source": [
    "pivoted_data.index"
   ]
  },
  {
   "cell_type": "code",
   "execution_count": 108,
   "id": "3bb39678",
   "metadata": {
    "scrolled": true
   },
   "outputs": [
    {
     "data": {
      "text/html": [
       "<style>#sk-container-id-5 {color: black;background-color: white;}#sk-container-id-5 pre{padding: 0;}#sk-container-id-5 div.sk-toggleable {background-color: white;}#sk-container-id-5 label.sk-toggleable__label {cursor: pointer;display: block;width: 100%;margin-bottom: 0;padding: 0.3em;box-sizing: border-box;text-align: center;}#sk-container-id-5 label.sk-toggleable__label-arrow:before {content: \"▸\";float: left;margin-right: 0.25em;color: #696969;}#sk-container-id-5 label.sk-toggleable__label-arrow:hover:before {color: black;}#sk-container-id-5 div.sk-estimator:hover label.sk-toggleable__label-arrow:before {color: black;}#sk-container-id-5 div.sk-toggleable__content {max-height: 0;max-width: 0;overflow: hidden;text-align: left;background-color: #f0f8ff;}#sk-container-id-5 div.sk-toggleable__content pre {margin: 0.2em;color: black;border-radius: 0.25em;background-color: #f0f8ff;}#sk-container-id-5 input.sk-toggleable__control:checked~div.sk-toggleable__content {max-height: 200px;max-width: 100%;overflow: auto;}#sk-container-id-5 input.sk-toggleable__control:checked~label.sk-toggleable__label-arrow:before {content: \"▾\";}#sk-container-id-5 div.sk-estimator input.sk-toggleable__control:checked~label.sk-toggleable__label {background-color: #d4ebff;}#sk-container-id-5 div.sk-label input.sk-toggleable__control:checked~label.sk-toggleable__label {background-color: #d4ebff;}#sk-container-id-5 input.sk-hidden--visually {border: 0;clip: rect(1px 1px 1px 1px);clip: rect(1px, 1px, 1px, 1px);height: 1px;margin: -1px;overflow: hidden;padding: 0;position: absolute;width: 1px;}#sk-container-id-5 div.sk-estimator {font-family: monospace;background-color: #f0f8ff;border: 1px dotted black;border-radius: 0.25em;box-sizing: border-box;margin-bottom: 0.5em;}#sk-container-id-5 div.sk-estimator:hover {background-color: #d4ebff;}#sk-container-id-5 div.sk-parallel-item::after {content: \"\";width: 100%;border-bottom: 1px solid gray;flex-grow: 1;}#sk-container-id-5 div.sk-label:hover label.sk-toggleable__label {background-color: #d4ebff;}#sk-container-id-5 div.sk-serial::before {content: \"\";position: absolute;border-left: 1px solid gray;box-sizing: border-box;top: 0;bottom: 0;left: 50%;z-index: 0;}#sk-container-id-5 div.sk-serial {display: flex;flex-direction: column;align-items: center;background-color: white;padding-right: 0.2em;padding-left: 0.2em;position: relative;}#sk-container-id-5 div.sk-item {position: relative;z-index: 1;}#sk-container-id-5 div.sk-parallel {display: flex;align-items: stretch;justify-content: center;background-color: white;position: relative;}#sk-container-id-5 div.sk-item::before, #sk-container-id-5 div.sk-parallel-item::before {content: \"\";position: absolute;border-left: 1px solid gray;box-sizing: border-box;top: 0;bottom: 0;left: 50%;z-index: -1;}#sk-container-id-5 div.sk-parallel-item {display: flex;flex-direction: column;z-index: 1;position: relative;background-color: white;}#sk-container-id-5 div.sk-parallel-item:first-child::after {align-self: flex-end;width: 50%;}#sk-container-id-5 div.sk-parallel-item:last-child::after {align-self: flex-start;width: 50%;}#sk-container-id-5 div.sk-parallel-item:only-child::after {width: 0;}#sk-container-id-5 div.sk-dashed-wrapped {border: 1px dashed gray;margin: 0 0.4em 0.5em 0.4em;box-sizing: border-box;padding-bottom: 0.4em;background-color: white;}#sk-container-id-5 div.sk-label label {font-family: monospace;font-weight: bold;display: inline-block;line-height: 1.2em;}#sk-container-id-5 div.sk-label-container {text-align: center;}#sk-container-id-5 div.sk-container {/* jupyter's `normalize.less` sets `[hidden] { display: none; }` but bootstrap.min.css set `[hidden] { display: none !important; }` so we also need the `!important` here to be able to override the default hidden behavior on the sphinx rendered scikit-learn.org. See: https://github.com/scikit-learn/scikit-learn/issues/21755 */display: inline-block !important;position: relative;}#sk-container-id-5 div.sk-text-repr-fallback {display: none;}</style><div id=\"sk-container-id-5\" class=\"sk-top-container\"><div class=\"sk-text-repr-fallback\"><pre>NearestNeighbors(algorithm=&#x27;brute&#x27;, metric=&#x27;cosine&#x27;, n_neighbors=10)</pre><b>In a Jupyter environment, please rerun this cell to show the HTML representation or trust the notebook. <br />On GitHub, the HTML representation is unable to render, please try loading this page with nbviewer.org.</b></div><div class=\"sk-container\" hidden><div class=\"sk-item\"><div class=\"sk-estimator sk-toggleable\"><input class=\"sk-toggleable__control sk-hidden--visually\" id=\"sk-estimator-id-5\" type=\"checkbox\" checked><label for=\"sk-estimator-id-5\" class=\"sk-toggleable__label sk-toggleable__label-arrow\">NearestNeighbors</label><div class=\"sk-toggleable__content\"><pre>NearestNeighbors(algorithm=&#x27;brute&#x27;, metric=&#x27;cosine&#x27;, n_neighbors=10)</pre></div></div></div></div></div>"
      ],
      "text/plain": [
       "NearestNeighbors(algorithm='brute', metric='cosine', n_neighbors=10)"
      ]
     },
     "execution_count": 108,
     "metadata": {},
     "output_type": "execute_result"
    }
   ],
   "source": [
    "neigbours = NearestNeighbors(n_neighbors=10,metric=\"cosine\", algorithm='brute')\n",
    "neigbours.fit(sparse_matrix)"
   ]
  },
  {
   "cell_type": "code",
   "execution_count": 110,
   "id": "b33cc031",
   "metadata": {},
   "outputs": [
    {
     "name": "stdout",
     "output_type": "stream",
     "text": [
      "10 Lb. Penalty\n",
      "Devil's Waltz (Alex Delaware Novels (Paperback))\n",
      "The Cat Who Played Post Office (Cat Who... (Paperback))\n",
      "Nemesis\n",
      "I Is for Innocent\n",
      "Out of Africa ; and, Shadows on the grass\n",
      "Decider\n",
      "The 13th Juror\n",
      "Split Second (Maggie O'Dell Novels (Paperback))\n",
      "Parallel Lies\n"
     ]
    }
   ],
   "source": [
    "distance, books = neigbours.kneighbors(pivoted_data.iloc[0,:].values.reshape(1, -1))\n",
    "for i in books:\n",
    "    for j in i:\n",
    "        print(pivoted_data.iloc[j,:].name)"
   ]
  }
 ],
 "metadata": {
  "kernelspec": {
   "display_name": "recommenders",
   "language": "python",
   "name": "recommenders"
  },
  "language_info": {
   "codemirror_mode": {
    "name": "ipython",
    "version": 3
   },
   "file_extension": ".py",
   "mimetype": "text/x-python",
   "name": "python",
   "nbconvert_exporter": "python",
   "pygments_lexer": "ipython3",
   "version": "3.10.1"
  }
 },
 "nbformat": 4,
 "nbformat_minor": 5
}
